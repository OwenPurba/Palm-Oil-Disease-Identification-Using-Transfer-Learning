{
  "nbformat": 4,
  "nbformat_minor": 0,
  "metadata": {
    "colab": {
      "provenance": []
    },
    "kernelspec": {
      "name": "python3",
      "display_name": "Python 3"
    },
    "language_info": {
      "name": "python"
    }
  },
  "cells": [
    {
      "cell_type": "markdown",
      "source": [
        "#Memasukkan data"
      ],
      "metadata": {
        "id": "Ybf1sscauVvL"
      }
    },
    {
      "cell_type": "markdown",
      "source": [
        "##Mount akun google drive ke google colab"
      ],
      "metadata": {
        "id": "nl9htV_hua0B"
      }
    },
    {
      "cell_type": "code",
      "source": [
        "from google.colab import drive\n",
        "drive.mount('/content/drive')\n"
      ],
      "metadata": {
        "colab": {
          "base_uri": "https://localhost:8080/"
        },
        "id": "lumGS4LWlsCX",
        "outputId": "2de00c02-8a76-4ddb-c882-f7877610dc64"
      },
      "execution_count": null,
      "outputs": [
        {
          "output_type": "stream",
          "name": "stdout",
          "text": [
            "Drive already mounted at /content/drive; to attempt to forcibly remount, call drive.mount(\"/content/drive\", force_remount=True).\n"
          ]
        }
      ]
    },
    {
      "cell_type": "markdown",
      "source": [
        "##Unzip"
      ],
      "metadata": {
        "id": "suxOyf_hvQy4"
      }
    },
    {
      "cell_type": "code",
      "source": [
        "import zipfile\n",
        "\n",
        "with zipfile.ZipFile(\"/content/drive/MyDrive/Date Palm data_split.zip\", 'r') as zip_ref:\n",
        "  zip_ref.extractall(\"./\")"
      ],
      "metadata": {
        "id": "NlBm3m_OuU9j"
      },
      "execution_count": null,
      "outputs": []
    },
    {
      "cell_type": "markdown",
      "source": [
        "##Load gambarnya"
      ],
      "metadata": {
        "id": "2QTn7JWjvTYd"
      }
    },
    {
      "cell_type": "code",
      "source": [
        "from tensorflow.keras.preprocessing.image import ImageDataGenerator\n",
        "\n",
        "train_datagen = ImageDataGenerator(rescale=1/255)\n",
        "validation_datagen = ImageDataGenerator(rescale=1/255)\n",
        "test_datagen = ImageDataGenerator(rescale=1/255)\n",
        "\n",
        "train_generator = train_datagen.flow_from_directory(\n",
        "    '/content/Date Palm data_split/train',\n",
        "    target_size=(200,200),\n",
        "    batch_size=16\n",
        ")\n",
        "validation_generator = validation_datagen.flow_from_directory(\n",
        "    '/content/Date Palm data_split/validation',\n",
        "    target_size=(200,200),\n",
        "    batch_size=16,\n",
        "    shuffle=False\n",
        ")\n",
        "test_generator = test_datagen.flow_from_directory(\n",
        "    '/content/Date Palm data_split/test',\n",
        "    target_size=(200,200),\n",
        "    batch_size=16,\n",
        "    shuffle=False\n",
        ")"
      ],
      "metadata": {
        "colab": {
          "base_uri": "https://localhost:8080/"
        },
        "id": "RWTfs1bsvXJ7",
        "outputId": "fb9702e1-0042-468b-983a-a5725df7371c"
      },
      "execution_count": null,
      "outputs": [
        {
          "output_type": "stream",
          "name": "stdout",
          "text": [
            "Found 1841 images belonging to 3 classes.\n",
            "Found 393 images belonging to 3 classes.\n",
            "Found 397 images belonging to 3 classes.\n"
          ]
        }
      ]
    },
    {
      "cell_type": "markdown",
      "source": [
        "#Import library"
      ],
      "metadata": {
        "id": "CYhia8NhwmF-"
      }
    },
    {
      "cell_type": "code",
      "source": [
        "import numpy as np\n",
        "import tensorflow as tf\n",
        "from tensorflow.keras.preprocessing.image import ImageDataGenerator\n",
        "from tensorflow.keras.optimizers import Adam, RMSprop, SGD\n",
        "from tensorflow.keras.layers import Dense, MaxPooling2D, Dropout, Conv2D, Flatten\n",
        "from tensorflow.keras.models import Sequential\n",
        "from tensorflow.keras.metrics import Precision, Accuracy, Recall, Precision\n",
        "from tensorflow.keras.callbacks import EarlyStopping"
      ],
      "metadata": {
        "id": "0bx24VGEwnVT"
      },
      "execution_count": null,
      "outputs": []
    },
    {
      "cell_type": "markdown",
      "source": [
        "#Membuat arsitektur model CNN"
      ],
      "metadata": {
        "id": "oxhqJQRVxMQA"
      }
    },
    {
      "cell_type": "code",
      "source": [
        "model = Sequential()\n",
        "model.add(Conv2D(16, (3, 3), activation='relu', input_shape=(200, 200, 3)))\n",
        "model.add(MaxPooling2D(2,2))\n",
        "model.add(Conv2D(32, (3, 3), activation='relu'))\n",
        "model.add(MaxPooling2D(2,2))\n",
        "model.add(Conv2D(32, (3, 3), activation='relu'))\n",
        "model.add(MaxPooling2D(2,2))\n",
        "model.add(Conv2D(64, (3, 3), activation='relu'))\n",
        "model.add(Flatten())\n",
        "model.add(Dense(64, activation='relu'))\n",
        "model.add(Dense(256, activation='relu'))\n",
        "model.add(Dropout(0.3))\n",
        "model.add(Dense(3, activation='softmax'))"
      ],
      "metadata": {
        "id": "e1dlIhAM1eqh"
      },
      "execution_count": null,
      "outputs": []
    },
    {
      "cell_type": "code",
      "source": [
        "model.summary()"
      ],
      "metadata": {
        "colab": {
          "base_uri": "https://localhost:8080/"
        },
        "id": "0C1b9knNxuVH",
        "outputId": "a1df960b-cb46-495b-ee4b-87177c03260c"
      },
      "execution_count": null,
      "outputs": [
        {
          "output_type": "stream",
          "name": "stdout",
          "text": [
            "Model: \"sequential\"\n",
            "_________________________________________________________________\n",
            " Layer (type)                Output Shape              Param #   \n",
            "=================================================================\n",
            " conv2d (Conv2D)             (None, 198, 198, 16)      448       \n",
            "                                                                 \n",
            " max_pooling2d (MaxPooling2  (None, 99, 99, 16)        0         \n",
            " D)                                                              \n",
            "                                                                 \n",
            " conv2d_1 (Conv2D)           (None, 97, 97, 32)        4640      \n",
            "                                                                 \n",
            " max_pooling2d_1 (MaxPoolin  (None, 48, 48, 32)        0         \n",
            " g2D)                                                            \n",
            "                                                                 \n",
            " conv2d_2 (Conv2D)           (None, 46, 46, 32)        9248      \n",
            "                                                                 \n",
            " max_pooling2d_2 (MaxPoolin  (None, 23, 23, 32)        0         \n",
            " g2D)                                                            \n",
            "                                                                 \n",
            " conv2d_3 (Conv2D)           (None, 21, 21, 64)        18496     \n",
            "                                                                 \n",
            " flatten (Flatten)           (None, 28224)             0         \n",
            "                                                                 \n",
            " dense (Dense)               (None, 64)                1806400   \n",
            "                                                                 \n",
            " dense_1 (Dense)             (None, 256)               16640     \n",
            "                                                                 \n",
            " dropout (Dropout)           (None, 256)               0         \n",
            "                                                                 \n",
            " dense_2 (Dense)             (None, 3)                 771       \n",
            "                                                                 \n",
            "=================================================================\n",
            "Total params: 1856643 (7.08 MB)\n",
            "Trainable params: 1856643 (7.08 MB)\n",
            "Non-trainable params: 0 (0.00 Byte)\n",
            "_________________________________________________________________\n"
          ]
        }
      ]
    },
    {
      "cell_type": "markdown",
      "source": [
        "#Compile modelnya"
      ],
      "metadata": {
        "id": "Xq-k-VH9xyGG"
      }
    },
    {
      "cell_type": "code",
      "source": [
        "model.compile(\n",
        "    optimizer=Adam(learning_rate=0.001),\n",
        "    loss='categorical_crossentropy',\n",
        "    metrics=[Recall(), Precision(), 'accuracy']\n",
        ")"
      ],
      "metadata": {
        "id": "0QJx8HuCx0Wg"
      },
      "execution_count": null,
      "outputs": []
    },
    {
      "cell_type": "markdown",
      "source": [
        "#Membuat callback"
      ],
      "metadata": {
        "id": "mct6ZtROyF_X"
      }
    },
    {
      "cell_type": "code",
      "source": [
        "model_callback = EarlyStopping(\n",
        "    monitor = 'loss',\n",
        "    verbose = 1,\n",
        "    mode = 'min',\n",
        "    patience = 3\n",
        ")"
      ],
      "metadata": {
        "id": "nrcQN7OwyJRp"
      },
      "execution_count": null,
      "outputs": []
    },
    {
      "cell_type": "markdown",
      "source": [
        "#Training"
      ],
      "metadata": {
        "id": "m6YVDNA5yWVn"
      }
    },
    {
      "cell_type": "code",
      "source": [
        "history = model.fit(\n",
        "    train_generator,\n",
        "    validation_data = validation_generator,\n",
        "    epochs = 30,\n",
        "    steps_per_epoch = 50,\n",
        "    callbacks = [model_callback],\n",
        "    verbose = 1\n",
        ")"
      ],
      "metadata": {
        "colab": {
          "base_uri": "https://localhost:8080/"
        },
        "id": "Sp30D8PvyXW9",
        "outputId": "5c63a6f9-04d5-4e5a-fd30-d96f63ddbef2"
      },
      "execution_count": null,
      "outputs": [
        {
          "output_type": "stream",
          "name": "stdout",
          "text": [
            "Epoch 1/30\n",
            "50/50 [==============================] - 43s 727ms/step - loss: 1.0247 - recall: 0.1197 - precision: 0.4677 - accuracy: 0.4535 - val_loss: 0.9489 - val_recall: 0.3639 - val_precision: 0.5861 - val_accuracy: 0.4580\n",
            "Epoch 2/30\n",
            "50/50 [==============================] - 34s 670ms/step - loss: 0.8210 - recall: 0.4306 - precision: 0.5982 - accuracy: 0.5758 - val_loss: 0.5839 - val_recall: 0.7303 - val_precision: 0.8039 - val_accuracy: 0.7761\n",
            "Epoch 3/30\n",
            "50/50 [==============================] - 41s 818ms/step - loss: 0.5727 - recall: 0.6913 - precision: 0.7555 - accuracy: 0.7400 - val_loss: 0.4080 - val_recall: 0.8168 - val_precision: 0.8316 - val_accuracy: 0.8295\n",
            "Epoch 4/30\n",
            "50/50 [==============================] - 35s 705ms/step - loss: 0.4308 - recall: 0.7850 - precision: 0.8051 - accuracy: 0.7987 - val_loss: 0.3559 - val_recall: 0.8550 - val_precision: 0.8819 - val_accuracy: 0.8677\n",
            "Epoch 5/30\n",
            "50/50 [==============================] - 32s 637ms/step - loss: 0.3254 - recall: 0.8866 - precision: 0.8958 - accuracy: 0.8892 - val_loss: 0.2160 - val_recall: 0.9262 - val_precision: 0.9406 - val_accuracy: 0.9338\n",
            "Epoch 6/30\n",
            "50/50 [==============================] - 33s 663ms/step - loss: 0.2014 - recall: 0.9401 - precision: 0.9449 - accuracy: 0.9427 - val_loss: 0.2495 - val_recall: 0.9135 - val_precision: 0.9182 - val_accuracy: 0.9186\n",
            "Epoch 7/30\n",
            "50/50 [==============================] - 32s 638ms/step - loss: 0.2060 - recall: 0.9159 - precision: 0.9265 - accuracy: 0.9210 - val_loss: 0.2668 - val_recall: 0.9160 - val_precision: 0.9207 - val_accuracy: 0.9160\n",
            "Epoch 8/30\n",
            "50/50 [==============================] - 33s 668ms/step - loss: 0.2580 - recall: 0.8950 - precision: 0.8995 - accuracy: 0.9000 - val_loss: 0.2641 - val_recall: 0.9186 - val_precision: 0.9304 - val_accuracy: 0.9237\n",
            "Epoch 9/30\n",
            "50/50 [==============================] - 37s 737ms/step - loss: 0.1582 - recall: 0.9425 - precision: 0.9460 - accuracy: 0.9463 - val_loss: 0.2014 - val_recall: 0.9262 - val_precision: 0.9309 - val_accuracy: 0.9288\n",
            "Epoch 10/30\n",
            "50/50 [==============================] - 33s 668ms/step - loss: 0.1215 - recall: 0.9663 - precision: 0.9663 - accuracy: 0.9663 - val_loss: 0.2088 - val_recall: 0.9517 - val_precision: 0.9517 - val_accuracy: 0.9517\n",
            "Epoch 11/30\n",
            "50/50 [==============================] - 32s 642ms/step - loss: 0.1080 - recall: 0.9563 - precision: 0.9586 - accuracy: 0.9588 - val_loss: 0.2152 - val_recall: 0.9415 - val_precision: 0.9439 - val_accuracy: 0.9415\n",
            "Epoch 12/30\n",
            "50/50 [==============================] - 33s 670ms/step - loss: 0.1271 - recall: 0.9712 - precision: 0.9712 - accuracy: 0.9712 - val_loss: 0.1529 - val_recall: 0.9542 - val_precision: 0.9591 - val_accuracy: 0.9567\n",
            "Epoch 13/30\n",
            "50/50 [==============================] - 40s 812ms/step - loss: 0.0490 - recall: 0.9885 - precision: 0.9885 - accuracy: 0.9885 - val_loss: 0.2101 - val_recall: 0.9440 - val_precision: 0.9440 - val_accuracy: 0.9440\n",
            "Epoch 14/30\n",
            "50/50 [==============================] - 32s 639ms/step - loss: 0.0669 - recall: 0.9775 - precision: 0.9775 - accuracy: 0.9775 - val_loss: 0.1624 - val_recall: 0.9644 - val_precision: 0.9644 - val_accuracy: 0.9644\n",
            "Epoch 15/30\n",
            "50/50 [==============================] - 33s 659ms/step - loss: 0.0744 - recall: 0.9796 - precision: 0.9796 - accuracy: 0.9796 - val_loss: 0.1819 - val_recall: 0.9517 - val_precision: 0.9517 - val_accuracy: 0.9517\n",
            "Epoch 16/30\n",
            "50/50 [==============================] - 37s 740ms/step - loss: 0.0553 - recall: 0.9837 - precision: 0.9850 - accuracy: 0.9850 - val_loss: 0.1755 - val_recall: 0.9491 - val_precision: 0.9540 - val_accuracy: 0.9517\n",
            "Epoch 16: early stopping\n"
          ]
        }
      ]
    },
    {
      "cell_type": "markdown",
      "source": [
        "#Testing"
      ],
      "metadata": {
        "id": "nfvH2_TA0SJ1"
      }
    },
    {
      "cell_type": "code",
      "source": [
        "model.evaluate(test_generator)"
      ],
      "metadata": {
        "colab": {
          "base_uri": "https://localhost:8080/"
        },
        "id": "CD-wP9kUyiaD",
        "outputId": "a16ee1cb-0d22-470a-9c98-a7e1fd3a4a5e"
      },
      "execution_count": null,
      "outputs": [
        {
          "output_type": "stream",
          "name": "stdout",
          "text": [
            "25/25 [==============================] - 4s 156ms/step - loss: 0.1481 - recall: 0.9521 - precision: 0.9545 - accuracy: 0.9521\n"
          ]
        },
        {
          "output_type": "execute_result",
          "data": {
            "text/plain": [
              "[0.14809869229793549,\n",
              " 0.9521410465240479,\n",
              " 0.9545454382896423,\n",
              " 0.9521410465240479]"
            ]
          },
          "metadata": {},
          "execution_count": 10
        }
      ]
    },
    {
      "cell_type": "markdown",
      "source": [
        "#Visualisasi nilai loss saat training"
      ],
      "metadata": {
        "id": "CNW9Gr7w0YD6"
      }
    },
    {
      "cell_type": "code",
      "source": [
        "import matplotlib.pyplot as plt\n",
        "\n",
        "plt.figure(figsize=(8, 3))\n",
        "plt.plot(history.epoch, history.history['loss'])\n",
        "plt.plot(history.epoch, history.history['val_loss'])\n",
        "plt.legend(['train loss', 'val loss'])\n",
        "plt.title('Loss Diagram')\n",
        "plt.xlabel('Epoch(s)')\n",
        "plt.ylabel('Loss')\n",
        "plt.show"
      ],
      "metadata": {
        "colab": {
          "base_uri": "https://localhost:8080/",
          "height": 350
        },
        "id": "-W1ocrQ10ago",
        "outputId": "bdd06109-b0f0-4f18-8713-19a496b58181"
      },
      "execution_count": null,
      "outputs": [
        {
          "output_type": "execute_result",
          "data": {
            "text/plain": [
              "<function matplotlib.pyplot.show(close=None, block=None)>"
            ]
          },
          "metadata": {},
          "execution_count": 11
        },
        {
          "output_type": "display_data",
          "data": {
            "text/plain": [
              "<Figure size 800x300 with 1 Axes>"
            ],
            "image/png": "[encoded data removed]"
          },
          "metadata": {}
        }
      ]
    },
    {
      "cell_type": "markdown",
      "source": [
        "#Save modelnya"
      ],
      "metadata": {
        "id": "_S2e-Eru1E4S"
      }
    },
    {
      "cell_type": "code",
      "source": [
        "model.save('model.h5')"
      ],
      "metadata": {
        "id": "x8SD4s8V1F_A"
      },
      "execution_count": null,
      "outputs": []
    }
  ]
}